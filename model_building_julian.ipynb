{
 "cells": [
  {
   "cell_type": "code",
   "execution_count": 53,
   "metadata": {
    "collapsed": true
   },
   "outputs": [],
   "source": [
    "import numpy as np\n",
    "import pandas as pd\n",
    "import pylab as pl\n",
    "from datetime import time\n",
    "pd.set_option('html', False)\n",
    "\n",
    "%matplotlib inline"
   ]
  },
  {
   "cell_type": "code",
   "execution_count": 54,
   "metadata": {
    "collapsed": false
   },
   "outputs": [
    {
     "data": {
      "text/plain": [
       "   Unnamed: 0  unnamed:_0       id violation_last_modified_date  \\\n",
       "0           0           0  5063843                   05/21/2015   \n",
       "1           1           1  5063990                   05/21/2015   \n",
       "2           2           2  5064022                   05/21/2015   \n",
       "3           3           3  5064019                   05/21/2015   \n",
       "4           4           4  5064139                   05/21/2015   \n",
       "\n",
       "        violation_date violation_code violation_status violation_status_date  \\\n",
       "0  2015-05-21 00:00:00       CN065014             OPEN                   NaN   \n",
       "1  2015-05-21 00:00:00       CN044013             OPEN                   NaN   \n",
       "2  2015-05-21 00:00:00       CN104035             OPEN                   NaN   \n",
       "3  2015-05-21 00:00:00       CN196029             OPEN                   NaN   \n",
       "4  2015-05-21 00:00:00       CN104015             OPEN                   NaN   \n",
       "\n",
       "            violation_description             violation_location  ...   \\\n",
       "0                  REPAIR LINTELS                 OTHER   :    :  ...    \n",
       "1  PIPE OPENING W/NONCOMBUST MATL  OTHER   :    :MULTIPLE FLOORS  ...    \n",
       "2                 MAINTAIN WINDOW                 OTHER   :    :  ...    \n",
       "3      POST OWNER/MANAGERS NAME/#                 OTHER   :    :  ...    \n",
       "4   REPLCE WINDOW PANES, PLEXGLAS                 OTHER   :    :  ...    \n",
       "\n",
       "  plumbing refrigeration signs  special_inspection_program special_task_force  \\\n",
       "0        0             0     0                           0                  0   \n",
       "1        0             0     0                           0                  0   \n",
       "2        0             0     0                           0                  0   \n",
       "3        0             0     0                           0                  0   \n",
       "4        0             0     0                           0                  0   \n",
       "\n",
       "  ventilation water complied no_entry  open  \n",
       "0           0     0        0        0     1  \n",
       "1           0     0        0        0     1  \n",
       "2           0     0        0        0     1  \n",
       "3           0     0        0        0     1  \n",
       "4           0     0        0        0     1  \n",
       "\n",
       "[5 rows x 48 columns]"
      ]
     },
     "execution_count": 54,
     "metadata": {},
     "output_type": "execute_result"
    }
   ],
   "source": [
    "df = pd.read_csv(\"/Users/jkatzsamuels/Desktop/dssg/Building_Violations_50000_features_and_labels.csv\")\n",
    "df.head()"
   ]
  },
  {
   "cell_type": "code",
   "execution_count": 55,
   "metadata": {
    "collapsed": false
   },
   "outputs": [],
   "source": [
    "df['violation_date'] = pd.to_datetime(df.pop('violation_date'))\n",
    "df['year'] = pd.DatetimeIndex(df['violation_date']).year"
   ]
  },
  {
   "cell_type": "markdown",
   "metadata": {},
   "source": [
    "##Import Classifiers"
   ]
  },
  {
   "cell_type": "code",
   "execution_count": 56,
   "metadata": {
    "collapsed": true
   },
   "outputs": [],
   "source": [
    "from sklearn.linear_model import LogisticRegression\n",
    "from sklearn.neighbors import KNeighborsClassifier\n",
    "from sklearn.ensemble import RandomForestClassifier, GradientBoostingClassifier\n",
    "from sklearn.svm import SVC"
   ]
  },
  {
   "cell_type": "code",
   "execution_count": 57,
   "metadata": {
    "collapsed": true
   },
   "outputs": [],
   "source": [
    "features = ['ventilation', 'plumbing', 'refrigeration', \n",
    "            'special_task_force', 'water', 'refrigeration']"
   ]
  },
  {
   "cell_type": "code",
   "execution_count": 58,
   "metadata": {
    "collapsed": true
   },
   "outputs": [],
   "source": [
    "clf = LogisticRegression()"
   ]
  },
  {
   "cell_type": "code",
   "execution_count": 59,
   "metadata": {
    "collapsed": false
   },
   "outputs": [
    {
     "data": {
      "text/plain": [
       "LogisticRegression(C=1.0, class_weight=None, dual=False, fit_intercept=True,\n",
       "          intercept_scaling=1, penalty='l2', random_state=None, tol=0.0001)"
      ]
     },
     "execution_count": 59,
     "metadata": {},
     "output_type": "execute_result"
    }
   ],
   "source": [
    "clf.fit(df[features], df.failed)"
   ]
  },
  {
   "cell_type": "code",
   "execution_count": 60,
   "metadata": {
    "collapsed": false
   },
   "outputs": [
    {
     "data": {
      "text/plain": [
       "array([ 1.,  1.,  1., ...,  1.,  1.,  1.])"
      ]
     },
     "execution_count": 60,
     "metadata": {},
     "output_type": "execute_result"
    }
   ],
   "source": [
    "clf.predict(df[features])"
   ]
  },
  {
   "cell_type": "markdown",
   "metadata": {},
   "source": [
    "##Separate training and testing in years and pick best model"
   ]
  },
  {
   "cell_type": "code",
   "execution_count": 66,
   "metadata": {
    "collapsed": false
   },
   "outputs": [
    {
     "data": {
      "text/plain": [
       "[2006, 2007, 2008, 2009, 2010, 2011, 2012, 2013, 2014, 2015]"
      ]
     },
     "execution_count": 66,
     "metadata": {},
     "output_type": "execute_result"
    }
   ],
   "source": [
    "years = sorted(list(df.year.unique()))\n",
    "years"
   ]
  },
  {
   "cell_type": "code",
   "execution_count": 62,
   "metadata": {
    "collapsed": false
   },
   "outputs": [
    {
     "name": "stdout",
     "output_type": "stream",
     "text": [
      "2006 0.170692717584\n",
      "2007 0.130346550109\n",
      "2008 0.126447178003\n",
      "2009 0.15120593692\n",
      "2010 0.166972898484\n",
      "2011 0.13640776699\n",
      "2012 0.17037269026\n"
     ]
    }
   ],
   "source": [
    "# keep_clf = Logistic_Regression()\n",
    "for year in years[:len(years)-3]:\n",
    "    clf = LogisticRegression()\n",
    "    df_train = df[df['year'] <= year]\n",
    "    df_test = df[df['year'] == year + 1]\n",
    "    \n",
    "    clf.fit(df_train[features], df_train['failed'])\n",
    "    accuracy = (np.abs(df_test.failed - clf.predict(df_test[features]))).mean()\n",
    "    print str(year), accuracy"
   ]
  },
  {
   "cell_type": "code",
   "execution_count": 63,
   "metadata": {
    "collapsed": false
   },
   "outputs": [
    {
     "data": {
      "text/plain": [
       "LogisticRegression(C=1.0, class_weight=None, dual=False, fit_intercept=True,\n",
       "          intercept_scaling=1, penalty='l2', random_state=None, tol=0.0001)"
      ]
     },
     "execution_count": 63,
     "metadata": {},
     "output_type": "execute_result"
    }
   ],
   "source": [
    "clf = LogisticRegression()\n",
    "df_train = df[df['year'] <= year]\n",
    "df_test = df[df['year'] == year + 1]\n",
    "clf.fit(df_train[features], df_train['failed'])"
   ]
  },
  {
   "cell_type": "code",
   "execution_count": 64,
   "metadata": {
    "collapsed": false
   },
   "outputs": [
    {
     "data": {
      "text/plain": [
       "array([ 1.,  1.,  1., ...,  1.,  1.,  1.])"
      ]
     },
     "execution_count": 64,
     "metadata": {},
     "output_type": "execute_result"
    }
   ],
   "source": [
    "clf.predict(df_test[features])"
   ]
  },
  {
   "cell_type": "code",
   "execution_count": 49,
   "metadata": {
    "collapsed": false
   },
   "outputs": [
    {
     "data": {
      "text/plain": [
       "0.17069271758436944"
      ]
     },
     "execution_count": 49,
     "metadata": {},
     "output_type": "execute_result"
    }
   ],
   "source": [
    "(np.abs(df_test.failed - clf.predict(df_test[features]))).mean()"
   ]
  },
  {
   "cell_type": "code",
   "execution_count": 51,
   "metadata": {
    "collapsed": true
   },
   "outputs": [],
   "source": []
  },
  {
   "cell_type": "code",
   "execution_count": 52,
   "metadata": {
    "collapsed": false
   },
   "outputs": [
    {
     "data": {
      "text/plain": [
       "       Unnamed: 0  unnamed:_0       id violation_last_modified_date  \\\n",
       "0               0           0  5063843                   05/21/2015   \n",
       "1               1           1  5063990                   05/21/2015   \n",
       "2               2           2  5064022                   05/21/2015   \n",
       "3               3           3  5064019                   05/21/2015   \n",
       "4               4           4  5064139                   05/21/2015   \n",
       "5               5           5  5064153                   05/21/2015   \n",
       "6               6           6  5064141                   05/21/2015   \n",
       "7               7           7  5064257                   05/21/2015   \n",
       "8               8           8  5064728                   05/21/2015   \n",
       "9               9           9  5064742                   05/21/2015   \n",
       "10             10          10  5064812                   05/21/2015   \n",
       "11             11          11  5064815                   05/21/2015   \n",
       "12             12          12  5063772                   05/20/2015   \n",
       "13             14          14  5063763                   05/20/2015   \n",
       "14             16          16  5063912                   05/21/2015   \n",
       "15             17          17  5063146                   05/20/2015   \n",
       "16             19          19  5064353                   05/20/2015   \n",
       "17             24          24  5062605                   05/19/2015   \n",
       "18             25          25  5062606                   05/19/2015   \n",
       "19             26          26  5062634                   05/19/2015   \n",
       "20             27          27  5062679                   05/19/2015   \n",
       "21             28          28  5061236                   05/19/2015   \n",
       "22             29          29  5062894                   05/19/2015   \n",
       "23             31          31  5061908                   05/19/2015   \n",
       "24             32          32  5062279                   05/19/2015   \n",
       "25             33          33  5060309                   05/18/2015   \n",
       "26             34          34  5060319                   05/18/2015   \n",
       "27             35          35  5060973                   05/19/2015   \n",
       "28             37          37  5062887                   05/18/2015   \n",
       "29             38          38  5062925                   05/18/2015   \n",
       "...           ...         ...      ...                          ...   \n",
       "12413       14816       14816  4061589                   01/04/2012   \n",
       "12414       14817       14817  4061701                   01/04/2012   \n",
       "12415       14818       14818  4110870                   03/02/2012   \n",
       "12416       14820       14820  4061889                   01/04/2012   \n",
       "12417       14822       14822  4195228                   06/07/2012   \n",
       "12418       14823       14823  4195179                   06/07/2012   \n",
       "12419       14824       14824  4111543                   12/20/2012   \n",
       "12420       14825       14825  4062592                   01/04/2012   \n",
       "12421       14826       14826  4061987                   01/04/2012   \n",
       "12422       14827       14827  4071171                   01/04/2012   \n",
       "12423       14828       14828  4062645                   01/04/2012   \n",
       "12424       14829       14829  4062293                   01/04/2012   \n",
       "12425       14830       14830  4075738                   07/16/2012   \n",
       "12426       14831       14831  4062273                   01/20/2012   \n",
       "12427       14832       14832  4069483                   01/12/2012   \n",
       "12428       14833       14833  4195197                   06/07/2012   \n",
       "12429       14835       14835  4061489                   01/03/2012   \n",
       "12430       14837       14837  4061745                   01/03/2012   \n",
       "12431       14838       14838  4077964                   08/01/2014   \n",
       "12432       14839       14839  4062518                   01/03/2012   \n",
       "12433       14840       14840  4061726                   01/03/2012   \n",
       "12434       14841       14841  4144115                   09/29/2014   \n",
       "12435       14842       14842  4062696                   01/05/2012   \n",
       "12436       14843       14843  4061523                   01/03/2012   \n",
       "12437       14844       14844  4061735                   01/03/2012   \n",
       "12438       14846       14846  4061481                   01/03/2012   \n",
       "12439       14847       14847  4144151                   10/16/2012   \n",
       "12440       14848       14848  4061681                   01/03/2012   \n",
       "12441       14849       14849  4069950                   01/12/2012   \n",
       "12442       14850       14850  4144503                   11/05/2012   \n",
       "\n",
       "      violation_code violation_status violation_status_date  \\\n",
       "0           CN065014             OPEN                   NaN   \n",
       "1           CN044013             OPEN                   NaN   \n",
       "2           CN104035             OPEN                   NaN   \n",
       "3           CN196029             OPEN                   NaN   \n",
       "4           CN104015             OPEN                   NaN   \n",
       "5           CN190019             OPEN                   NaN   \n",
       "6           CN015062             OPEN                   NaN   \n",
       "7           CN065034             OPEN                   NaN   \n",
       "8           CN196029             OPEN                   NaN   \n",
       "9           CN190019             OPEN                   NaN   \n",
       "10          CN104065             OPEN                   NaN   \n",
       "11          CN063014             OPEN                   NaN   \n",
       "12          CN070024             OPEN                   NaN   \n",
       "13          CN041063             OPEN                   NaN   \n",
       "14          PL151137             OPEN                   NaN   \n",
       "15          CN074014             OPEN                   NaN   \n",
       "16          CN070014             OPEN                   NaN   \n",
       "17          CN111025             OPEN                   NaN   \n",
       "18          CN110025             OPEN                   NaN   \n",
       "19          CN104015             OPEN                   NaN   \n",
       "20          CN061014             OPEN                   NaN   \n",
       "21          CN105085             OPEN                   NaN   \n",
       "22          CN076014             OPEN                   NaN   \n",
       "23          CN104015             OPEN                   NaN   \n",
       "24          CN062034             OPEN                   NaN   \n",
       "25          CN198019             OPEN                   NaN   \n",
       "26          CN046013             OPEN                   NaN   \n",
       "27            VT1010             OPEN                   NaN   \n",
       "28          CN198019             OPEN                   NaN   \n",
       "29          CN070024             OPEN                   NaN   \n",
       "...              ...              ...                   ...   \n",
       "12413         EL0080             OPEN                   NaN   \n",
       "12414         EL0095             OPEN                   NaN   \n",
       "12415       CN104025             OPEN                   NaN   \n",
       "12416         EL0020             OPEN                   NaN   \n",
       "12417         EL0033             OPEN                   NaN   \n",
       "12418       CN138056             OPEN                   NaN   \n",
       "12419         EL0024         COMPLIED            12/11/2012   \n",
       "12420       PL154027             OPEN                   NaN   \n",
       "12421         EL0029             OPEN                   NaN   \n",
       "12422       CN196029             OPEN                   NaN   \n",
       "12423       CN074024             OPEN                   NaN   \n",
       "12424       PL154027             OPEN                   NaN   \n",
       "12425         EV1110         COMPLIED            07/16/2012   \n",
       "12426       RF301051         COMPLIED            01/20/2012   \n",
       "12427       PL171017             OPEN                   NaN   \n",
       "12428       PL153017             OPEN                   NaN   \n",
       "12429       CN138056             OPEN                   NaN   \n",
       "12430       CN197019             OPEN                   NaN   \n",
       "12431       CN073024         COMPLIED            04/24/2014   \n",
       "12432       CN073014             OPEN                   NaN   \n",
       "12433       CN105025             OPEN                   NaN   \n",
       "12434         EV1111         COMPLIED            04/30/2014   \n",
       "12435       CN132046             OPEN                   NaN   \n",
       "12436       CN077014             OPEN                   NaN   \n",
       "12437       CN134026             OPEN                   NaN   \n",
       "12438       CN062024             OPEN                   NaN   \n",
       "12439         EV1110         COMPLIED            10/15/2012   \n",
       "12440       CN070024             OPEN                   NaN   \n",
       "12441         NC2021             OPEN                   NaN   \n",
       "12442         EV1110         COMPLIED            09/11/2012   \n",
       "\n",
       "                violation_description                violation_location  \\\n",
       "0                      REPAIR LINTELS                    OTHER   :    :   \n",
       "1      PIPE OPENING W/NONCOMBUST MATL     OTHER   :    :MULTIPLE FLOORS   \n",
       "2                     MAINTAIN WINDOW                    OTHER   :    :   \n",
       "3          POST OWNER/MANAGERS NAME/#                    OTHER   :    :   \n",
       "4       REPLCE WINDOW PANES, PLEXGLAS                    OTHER   :    :   \n",
       "5          ARRANGE PREMISE INSPECTION                    OTHER   :    :   \n",
       "6            OBSTRUCTIONS IN EXIT WAY                    OTHER   :    :   \n",
       "7                 REPAIR WINDOW SILLS                    EXTERIOR:W   :   \n",
       "8          POST OWNER/MANAGERS NAME/#                    OTHER   :    :   \n",
       "9          ARRANGE PREMISE INSPECTION            OTHER   :    :BUILDING   \n",
       "10             REPAIR WINDOW HARDWARE                    OTHER   :    :   \n",
       "11                            CHIMNEY                    OTHER   :    :   \n",
       "12                REPAIR PORCH SYSTEM                    EXTERIOR:S   :   \n",
       "13           CUT OR REMOVE HIGH WEEDS                    EXTERIOR:W   :   \n",
       "14                               OPEN                               NaN   \n",
       "15     SERVICE WALK, PASSAGE, AREAWAY                    OTHER   :    :   \n",
       "16              REPAIR EXTERIOR STAIR                    EXTERIOR:N   :   \n",
       "17                   EGRESS -BASEMENT                    OTHER   :    :   \n",
       "18                             EGRESS                    OTHER   :    :   \n",
       "19      REPLCE WINDOW PANES, PLEXGLAS                    OTHER   :    :   \n",
       "20               REPAIR EXTERIOR WALL       OTHER   :    :EXTERIOR WALL   \n",
       "21      PROVIDE DEADLOCK FOR ENTRANCE                    OTHER   :    :   \n",
       "22         PROVIDE GUTTER & DOWNSPOUT                    OTHER   :    :   \n",
       "23      REPLCE WINDOW PANES, PLEXGLAS                    OTHER   :    :   \n",
       "24                      REPAIR COPING                    EXTERIOR:W   :   \n",
       "25             FILE BLDG REGISTRATION                    OTHER   :    :   \n",
       "26          UNAPPROVED HEATING DEVICE                    OTHER   :    :   \n",
       "27     ARRANGE COMPLETED PERMIT INSP.                               NaN   \n",
       "28             FILE BLDG REGISTRATION               OTHER   :    :OTHER   \n",
       "29                REPAIR PORCH SYSTEM                    OTHER   :    :   \n",
       "...                               ...                               ...   \n",
       "12413            SEAL CONDUIT OPENING                               NaN   \n",
       "12414           CIRCUIT ONE UNIT ONLY                               NaN   \n",
       "12415            MAINTAIN WINDOW SASH                               NaN   \n",
       "12416                SUPPORT FIXTURES                               NaN   \n",
       "12417                  SECURE RACEWAY                               NaN   \n",
       "12418               DEBRIS, EXCESSIVE                               NaN   \n",
       "12419            INSTALL ILLUMINATION                               NaN   \n",
       "12420  SUPPLY HOT WTR MIN TEMP 120DEG         OTHER   :    :COACH HOUSE   \n",
       "12421                  EXPOSED WIRING                               NaN   \n",
       "12422      POST OWNER/MANAGERS NAME/#                    OTHER   :    :   \n",
       "12423   PROVIDE GUARD RAIL 42 IN HIGH      EXTERIOR:W   :WEST ELEVATION   \n",
       "12424  SUPPLY HOT WTR MIN TEMP 120DEG       OTHER   :    :1-3RD FLOORS:   \n",
       "12425  MAINTAIN OR REPAIR ELECT ELEVA                     EAST ELEVATOR   \n",
       "12426       ARRANGE FOR RE-INSPECTION                              ROOF   \n",
       "12427   OBTN PERMIT FOR PLUMBING WORK                               NaN   \n",
       "12428        REPLACE DEFECTIVE FAUCET                               NaN   \n",
       "12429               DEBRIS, EXCESSIVE                    EXTERIOR:E   :   \n",
       "12430         INSTALL SMOKE DETECTORS                    OTHER   :    :   \n",
       "12431      REPAIR EXTERIOR DOOR FRAME                   OTHER   :    :.   \n",
       "12432            REPAIR EXTERIOR DOOR                    OTHER   :    :   \n",
       "12433      REPAIR DOOR FRAME, MULLION   INTERIOR:006 :INTERIOR STAIR 6S   \n",
       "12434  MAINTAIN OR REPAIR HYDRO ELEVA                               NaN   \n",
       "12435         SAFE WORKING CONDITIONS                               NaN   \n",
       "12436                    REPAIR FENCE                    OTHER   :    :   \n",
       "12437        RAT STOP AROUND EXTERIOR                    OTHER   :    :   \n",
       "12438                         PARAPET                    EXTERIOR:SW  :   \n",
       "12439  MAINTAIN OR REPAIR ELECT ELEVA                               NaN   \n",
       "12440             REPAIR PORCH SYSTEM  INTERIOR:-1  :BASEMENT AND ATTIC   \n",
       "12441    PERMIT REQUIRED - CONTRACTOR                               NaN   \n",
       "12442  MAINTAIN OR REPAIR ELECT ELEVA                               NaN   \n",
       "\n",
       "                            violation_inspector_comments  ...  signs  \\\n",
       "0                                       LINTELS; RUSTED.  ...      0   \n",
       "1      OPENINGS AROUND PIPES, SEAL WITH APPROVED MATE...  ...      0   \n",
       "2      ALL ELEVATIONS , WOOD WINDOW FRAMES  AND NORTH...  ...      0   \n",
       "3               BUILDING - NO OWNER'S I.D. SIGN POSTED .  ...      0   \n",
       "4      NORTH ELEVATION / 1ST FLOOR - BROKEN WINDOW PANE.  ...      0   \n",
       "5      INTERIOR OF BUILDING, NO RESPONSE. UNABLE TO V...  ...      0   \n",
       "6      EAST ELEVATION / 5649 S. 2ND FLOOR SECONDARY E...  ...      0   \n",
       "7      WEST ELEVATION STONE SILLS HAVE WASHED OUT MOR...  ...      0   \n",
       "8                  BUILDING - NO OWNER'S ID SIGN POSTED.  ...      0   \n",
       "9      UNABLE TO INSPECT INTERIOR, STAIRWELLS, BASEME...  ...      0   \n",
       "10                    WINDOWS DOESN'T LOCK, DAMAGE LOCK.  ...      0   \n",
       "11                            CHIMNEY WASHED OUT MORTAR.  ...      0   \n",
       "12     SOUTH ELEVATION VIEWED FROM BEHIND FENCE FRONT...  ...      0   \n",
       "13                 WEST ELEVATION OVERGROWN GRASS/WEEDS.  ...      0   \n",
       "14                                            No Comment  ...      0   \n",
       "15                        SERVICE WALK; BROKEN CONCRETE.  ...      0   \n",
       "16     NORTH, SOUTH ELEVATIONS - HANDRAILS MISSING FR...  ...      0   \n",
       "17     BASEMENT DWELLING UNIT - ONLY 1 EGRESS EXISTS ...  ...      0   \n",
       "18     ATTIC DWELLING UNIT - ONLY ONE EGRESS EXISTS (...  ...      0   \n",
       "19     FRONT 1ST AND 2ND FLOOR APTS/REAR BASEMENT, 1S...  ...      0   \n",
       "20               EXTERIOR WALL WASHED OUT MORTAR JOINTS.  ...      0   \n",
       "21                         FRONT EXTERIOR DOOR; NO LOCK.  ...      0   \n",
       "22                         MISSING GUTTER AND DOWNSPOUT.  ...      0   \n",
       "23     WEST ELEVATION/ 1ST FLOOR WINDOWS NEAR NORTH E...  ...      0   \n",
       "24                WEST ELEVATION - MISSING COPING TILES.  ...      0   \n",
       "25     BUILDING - HAS NEVER BEEN REGISTERED.120 N. RA...  ...      0   \n",
       "26     1541 W./ 3RD FLOOR APT. - HAS A VENTLESS GAS S...  ...      0   \n",
       "27                                            No Comment  ...      0   \n",
       "28      BUILDING - NOT REGISTRED FROM 1990 THROUGH 2015.  ...      0   \n",
       "29     REAR PORCH BEAMS TO COLUMNS NAIL ONLY, STRINGE...  ...      0   \n",
       "...                                                  ...  ...    ...   \n",
       "12413                                         No Comment  ...      0   \n",
       "12414  PROVIDE SEPARATE PANEL AND METERING TO SERVE B...  ...      0   \n",
       "12415                 ROTTED WINDOW SASHES BASEMENT WEST  ...      0   \n",
       "12416                KITCHEN AND BATHROOM 1ST FLOOR REAR  ...      0   \n",
       "12417                         PROPERLY SUPPORT SEC RISER  ...      0   \n",
       "12418                  JUNK AND DEBRIS ON AND AROUND LOT  ...      0   \n",
       "12419  NO ILLUMINATION IN THE FURNACE ROOM, REAR ENTR...  ...      0   \n",
       "12420                   HOT WATER SUPPLIED AT ONLY 103F.  ...      0   \n",
       "12421                      2ND FLOOR REAR BEDROOM CLOSET  ...      1   \n",
       "12422                BUILDING OWNER'S ID SIGN - MISSING.  ...      0   \n",
       "12423     BALCONY - GUARDRAIL UNDER 42 INCHES IN HEIGHT.  ...      0   \n",
       "12424  MOST APARTMENTS INCLUDING, 823 W. / APT. 2 AND...  ...      0   \n",
       "12425                            PROGRAM EMERGENCY PHONE  ...      0   \n",
       "12426                        PROVIDE SAFE ACCESS TO ROOF  ...      0   \n",
       "12427                                         No Comment  ...      0   \n",
       "12428                       TUB FAUCET RUNNING 3RD FLOOR  ...      0   \n",
       "12429  EAST EXTERIOR BASEMENT - FULL OF GARBAGE , LEA...  ...      0   \n",
       "12430                BASEMENT AND 2ND NO SMOKE DETECTORS  ...      0   \n",
       "12431  2ND FLOOR APARTMENT - EXTERIOR DOOR, OPENINGS ...  ...      0   \n",
       "12432        NORTH EXTERIOR DOOR; BROKEN AND DON'T CLOSE  ...      0   \n",
       "12433       INTERIOR STAIRWELL 6S DOOR OVERLAPPING JAMB.  ...      0   \n",
       "12434                            PROGRAM EMERGENCY PHONE  ...      0   \n",
       "12435  LIVING ROOM RADIATOR NOT WORKING AT TIME OF IN...  ...      0   \n",
       "12436  NORTH AND SOUTH 5' HIGH WOOD FENCE - PICKETS -...  ...      0   \n",
       "12437                              RATS HABORING AT REAR  ...      0   \n",
       "12438  SOUTH AND WEST PARAPETS - WASHED OUT MORTAR WI...  ...      0   \n",
       "12439  PROVIDE CAUTION SIGNS ON WALK IN PIT DOORS CAR...  ...      0   \n",
       "12440  SOUTH ELEVATION REAR PORCH, 4X4 COLUMNS SUPPOR...  ...      0   \n",
       "12441  WIP PSO POSTED,STRIPPEDOUT THE 1ST & 2ND FLOOR...  ...      0   \n",
       "12442                      REP/REPLACE ALARM BELL CAR# 1  ...      0   \n",
       "\n",
       "      special_inspection_program  special_task_force ventilation water  \\\n",
       "0                              0                   0           0     0   \n",
       "1                              0                   0           0     0   \n",
       "2                              0                   0           0     0   \n",
       "3                              0                   0           0     0   \n",
       "4                              0                   0           0     0   \n",
       "5                              0                   0           0     0   \n",
       "6                              0                   0           0     0   \n",
       "7                              0                   0           0     0   \n",
       "8                              0                   0           0     0   \n",
       "9                              0                   0           0     0   \n",
       "10                             0                   0           0     0   \n",
       "11                             0                   0           0     0   \n",
       "12                             0                   0           0     0   \n",
       "13                             0                   0           0     0   \n",
       "14                             0                   0           0     0   \n",
       "15                             0                   0           0     0   \n",
       "16                             0                   0           0     0   \n",
       "17                             0                   0           0     0   \n",
       "18                             0                   0           0     0   \n",
       "19                             0                   0           0     0   \n",
       "20                             0                   0           0     0   \n",
       "21                             0                   0           0     0   \n",
       "22                             0                   0           0     0   \n",
       "23                             0                   0           0     0   \n",
       "24                             0                   0           0     0   \n",
       "25                             0                   0           0     0   \n",
       "26                             0                   0           0     0   \n",
       "27                             0                   0           1     0   \n",
       "28                             0                   0           0     0   \n",
       "29                             0                   0           0     0   \n",
       "...                          ...                 ...         ...   ...   \n",
       "12413                          0                   0           0     0   \n",
       "12414                          0                   0           0     0   \n",
       "12415                          0                   1           0     0   \n",
       "12416                          0                   0           0     0   \n",
       "12417                          0                   1           0     0   \n",
       "12418                          0                   1           0     0   \n",
       "12419                          0                   1           0     0   \n",
       "12420                          0                   0           0     0   \n",
       "12421                          0                   0           0     0   \n",
       "12422                          0                   0           0     0   \n",
       "12423                          0                   0           0     0   \n",
       "12424                          0                   0           0     0   \n",
       "12425                          0                   0           0     0   \n",
       "12426                          0                   0           0     0   \n",
       "12427                          0                   0           0     0   \n",
       "12428                          0                   1           0     0   \n",
       "12429                          0                   0           0     0   \n",
       "12430                          0                   0           0     0   \n",
       "12431                          0                   0           0     0   \n",
       "12432                          0                   0           0     0   \n",
       "12433                          0                   0           0     0   \n",
       "12434                          0                   0           0     0   \n",
       "12435                          0                   0           0     0   \n",
       "12436                          0                   0           0     0   \n",
       "12437                          0                   0           0     0   \n",
       "12438                          0                   0           0     0   \n",
       "12439                          0                   0           0     0   \n",
       "12440                          0                   0           0     0   \n",
       "12441                          0                   0           0     0   \n",
       "12442                          0                   0           0     0   \n",
       "\n",
       "      complied no_entry open  violation_date  year  \n",
       "0            0        0    1      2015-05-21  2015  \n",
       "1            0        0    1      2015-05-21  2015  \n",
       "2            0        0    1      2015-05-21  2015  \n",
       "3            0        0    1      2015-05-21  2015  \n",
       "4            0        0    1      2015-05-21  2015  \n",
       "5            0        0    1      2015-05-21  2015  \n",
       "6            0        0    1      2015-05-21  2015  \n",
       "7            0        0    1      2015-05-21  2015  \n",
       "8            0        0    1      2015-05-21  2015  \n",
       "9            0        0    1      2015-05-21  2015  \n",
       "10           0        0    1      2015-05-21  2015  \n",
       "11           0        0    1      2015-05-21  2015  \n",
       "12           0        0    1      2015-05-20  2015  \n",
       "13           0        0    1      2015-05-20  2015  \n",
       "14           0        0    1      2015-05-20  2015  \n",
       "15           0        0    1      2015-05-20  2015  \n",
       "16           0        0    1      2015-05-20  2015  \n",
       "17           0        0    1      2015-05-19  2015  \n",
       "18           0        0    1      2015-05-19  2015  \n",
       "19           0        0    1      2015-05-19  2015  \n",
       "20           0        0    1      2015-05-19  2015  \n",
       "21           0        0    1      2015-05-19  2015  \n",
       "22           0        0    1      2015-05-19  2015  \n",
       "23           0        0    1      2015-05-19  2015  \n",
       "24           0        0    1      2015-05-19  2015  \n",
       "25           0        0    1      2015-05-18  2015  \n",
       "26           0        0    1      2015-05-18  2015  \n",
       "27           0        0    1      2015-05-18  2015  \n",
       "28           0        0    1      2015-05-18  2015  \n",
       "29           0        0    1      2015-05-18  2015  \n",
       "...        ...      ...  ...             ...   ...  \n",
       "12413        0        0    1      2012-01-04  2012  \n",
       "12414        0        0    1      2012-01-04  2012  \n",
       "12415        0        0    1      2012-01-04  2012  \n",
       "12416        0        0    1      2012-01-04  2012  \n",
       "12417        0        0    1      2012-01-04  2012  \n",
       "12418        0        0    1      2012-01-04  2012  \n",
       "12419        1        0    0      2012-01-04  2012  \n",
       "12420        0        0    1      2012-01-04  2012  \n",
       "12421        0        0    1      2012-01-04  2012  \n",
       "12422        0        0    1      2012-01-04  2012  \n",
       "12423        0        0    1      2012-01-04  2012  \n",
       "12424        0        0    1      2012-01-04  2012  \n",
       "12425        1        0    0      2012-01-04  2012  \n",
       "12426        1        0    0      2012-01-04  2012  \n",
       "12427        0        0    1      2012-01-04  2012  \n",
       "12428        0        0    1      2012-01-04  2012  \n",
       "12429        0        0    1      2012-01-03  2012  \n",
       "12430        0        0    1      2012-01-03  2012  \n",
       "12431        1        0    0      2012-01-03  2012  \n",
       "12432        0        0    1      2012-01-03  2012  \n",
       "12433        0        0    1      2012-01-03  2012  \n",
       "12434        1        0    0      2012-01-03  2012  \n",
       "12435        0        0    1      2012-01-03  2012  \n",
       "12436        0        0    1      2012-01-03  2012  \n",
       "12437        0        0    1      2012-01-03  2012  \n",
       "12438        0        0    1      2012-01-03  2012  \n",
       "12439        1        0    0      2012-01-03  2012  \n",
       "12440        0        0    1      2012-01-03  2012  \n",
       "12441        0        0    1      2012-01-03  2012  \n",
       "12442        1        0    0      2012-01-03  2012  \n",
       "\n",
       "[12443 rows x 49 columns]"
      ]
     },
     "execution_count": 52,
     "metadata": {},
     "output_type": "execute_result"
    }
   ],
   "source": []
  },
  {
   "cell_type": "code",
   "execution_count": null,
   "metadata": {
    "collapsed": true
   },
   "outputs": [],
   "source": []
  }
 ],
 "metadata": {
  "kernelspec": {
   "display_name": "Python 2",
   "language": "python",
   "name": "python2"
  },
  "language_info": {
   "codemirror_mode": {
    "name": "ipython",
    "version": 2
   },
   "file_extension": ".py",
   "mimetype": "text/x-python",
   "name": "python",
   "nbconvert_exporter": "python",
   "pygments_lexer": "ipython2",
   "version": "2.7.10"
  }
 },
 "nbformat": 4,
 "nbformat_minor": 0
}
